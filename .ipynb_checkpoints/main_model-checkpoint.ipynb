{
 "cells": [
  {
   "cell_type": "code",
   "execution_count": null,
   "id": "74b85716",
   "metadata": {},
   "outputs": [],
   "source": [
    "from tensorflow import keras\n",
    "from tensorflow.keras.preprocessing.image import ImageDataGenerator\n",
    "from tensorflow.keras.optimizers import Adam\n",
    "from tensorflow.keras.callbacks import ModelCheckpoint\n",
    "import tensorflow as tf"
   ]
  },
  {
   "cell_type": "code",
   "execution_count": null,
   "id": "6a144908",
   "metadata": {},
   "outputs": [],
   "source": [
    "train_data_path = 'Train_dataset/'\n",
    "validation_data_path = 'Validation_dataset/'"
   ]
  },
  {
   "cell_type": "code",
   "execution_count": null,
   "id": "f8d85f46",
   "metadata": {},
   "outputs": [],
   "source": [
    "training_datagen = ImageDataGenerator(rescale=1./255,\n",
    "                                      rotation_range=40,\n",
    "                                      width_shift_range=0.2,\n",
    "                                      height_shift_range=0.2,\n",
    "                                      shear_range=0.2,\n",
    "                                      zoom_range=0.2,\n",
    "                                      horizontal_flip=True,\n",
    "                                      fill_mode='nearest')\n",
    "\n",
    "training_data = training_datagen.flow_from_directory(train_data_path,\n",
    "                                                     batch_size=20,\n",
    "                                                     target_size=(200,200),\n",
    "                                                     class_mode=\"binary\")"
   ]
  },
  {
   "cell_type": "code",
   "execution_count": null,
   "id": "cea978b2",
   "metadata": {},
   "outputs": [],
   "source": [
    "validation_datagen = ImageDataGenerator(rescale=1./255)\n",
    "\n",
    "validation_data = validation_datagen.flow_from_directory(validation_data_path,\n",
    "                                                         batch_size=20,\n",
    "                                                         target_size=(200,200),\n",
    "                                                         class_mode=\"binary\")"
   ]
  },
  {
   "cell_type": "code",
   "execution_count": null,
   "id": "aece3e83",
   "metadata": {},
   "outputs": [],
   "source": [
    "model_path = 'model/model.h5'"
   ]
  },
  {
   "cell_type": "code",
   "execution_count": null,
   "id": "340af768",
   "metadata": {},
   "outputs": [],
   "source": [
    "checkpoint = ModelCheckpoint(model_path, monitor='val_accuracy', save_best_only=True, verbose=1, mode='max')\n",
    "callbacks_list = [checkpoint]"
   ]
  },
  {
   "cell_type": "code",
   "execution_count": null,
   "id": "b2ca2f10",
   "metadata": {},
   "outputs": [],
   "source": [
    "# Creating Convolutional Neural Network\n",
    "cnn_model = keras.models.Sequential([keras.layers.Conv2D(filters=16,kernel_size=3,input_shape=[200,200,3]),\n",
    "                                     keras.layers.MaxPooling2D(pool_size=(2,2)),                         \n",
    "                                     keras.layers.Flatten(),\n",
    "                                     keras.layers.Dense(units=32, activation='relu'),\n",
    "                                     keras.layers.Dense(units=16, activation='relu'),\n",
    "                                     keras.layers.Dense(units=2, activation='softmax')\n",
    "                                    ])\n",
    "\n",
    "# Compiling Model\n",
    "cnn_model.compile(optimizer = Adam(learning_rate=0.001),loss='sparse_categorical_crossentropy',metrics=['accuracy'])"
   ]
  },
  {
   "cell_type": "code",
   "execution_count": null,
   "id": "ca593f92",
   "metadata": {},
   "outputs": [],
   "source": [
    "history = cnn_model.fit(training_data,\n",
    "                        epochs=10,\n",
    "                        verbose=1,\n",
    "                        validation_data = validation_data,\n",
    "                        callbacks=callbacks_list)"
   ]
  },
  {
   "cell_type": "code",
   "execution_count": null,
   "id": "a90c35c5",
   "metadata": {},
   "outputs": [],
   "source": []
  }
 ],
 "metadata": {
  "kernelspec": {
   "display_name": "Python 3",
   "language": "python",
   "name": "python3"
  },
  "language_info": {
   "codemirror_mode": {
    "name": "ipython",
    "version": 3
   },
   "file_extension": ".py",
   "mimetype": "text/x-python",
   "name": "python",
   "nbconvert_exporter": "python",
   "pygments_lexer": "ipython3",
   "version": "3.7.10"
  }
 },
 "nbformat": 4,
 "nbformat_minor": 5
}
